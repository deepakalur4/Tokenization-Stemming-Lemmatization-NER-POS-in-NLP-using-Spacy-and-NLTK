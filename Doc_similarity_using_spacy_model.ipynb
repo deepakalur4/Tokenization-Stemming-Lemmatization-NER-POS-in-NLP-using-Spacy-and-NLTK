{
  "nbformat": 4,
  "nbformat_minor": 0,
  "metadata": {
    "colab": {
      "provenance": []
    },
    "kernelspec": {
      "name": "python3",
      "display_name": "Python 3"
    },
    "language_info": {
      "name": "python"
    }
  },
  "cells": [
    {
      "cell_type": "code",
      "execution_count": 2,
      "metadata": {
        "colab": {
          "base_uri": "https://localhost:8080/"
        },
        "id": "w8dRz3svYBSW",
        "outputId": "03e8cef5-2454-498a-8a48-0ba5bfd98548"
      },
      "outputs": [
        {
          "output_type": "stream",
          "name": "stdout",
          "text": [
            "\u001b[38;5;2m✔ Download and installation successful\u001b[0m\n",
            "You can now load the package via spacy.load('en_core_web_lg')\n",
            "\u001b[38;5;3m⚠ Restart to reload dependencies\u001b[0m\n",
            "If you are in a Jupyter or Colab notebook, you may need to restart Python in\n",
            "order to load all the package's dependencies. You can do this by selecting the\n",
            "'Restart kernel' or 'Restart runtime' option.\n"
          ]
        }
      ],
      "source": [
        "import spacy\n",
        "spacy.cli.download(\"en_core_web_lg\")"
      ]
    },
    {
      "cell_type": "code",
      "source": [
        "nlp=spacy.load(\"en_core_web_lg\")"
      ],
      "metadata": {
        "id": "F3rHqjSmYDYe"
      },
      "execution_count": 3,
      "outputs": []
    },
    {
      "cell_type": "code",
      "source": [
        "nlp.pipeline"
      ],
      "metadata": {
        "colab": {
          "base_uri": "https://localhost:8080/"
        },
        "id": "w4mCkdNZYDaw",
        "outputId": "ce728211-ea15-4acf-ad73-a6289efedc4a"
      },
      "execution_count": 6,
      "outputs": [
        {
          "output_type": "execute_result",
          "data": {
            "text/plain": [
              "[('tok2vec', <spacy.pipeline.tok2vec.Tok2Vec at 0x7c645f36e3e0>),\n",
              " ('tagger', <spacy.pipeline.tagger.Tagger at 0x7c645f36f3a0>),\n",
              " ('parser', <spacy.pipeline.dep_parser.DependencyParser at 0x7c646382e6c0>),\n",
              " ('attribute_ruler',\n",
              "  <spacy.pipeline.attributeruler.AttributeRuler at 0x7c65283b9640>),\n",
              " ('lemmatizer',\n",
              "  <spacy.lang.en.lemmatizer.EnglishLemmatizer at 0x7c645fb9c100>),\n",
              " ('ner', <spacy.pipeline.ner.EntityRecognizer at 0x7c6463218820>)]"
            ]
          },
          "metadata": {},
          "execution_count": 6
        }
      ]
    },
    {
      "cell_type": "code",
      "source": [
        "doc1=nlp(\"Deepak is a very good boy\")\n",
        "doc2=nlp(\"Ayesha is a very good girl\")"
      ],
      "metadata": {
        "id": "Tnc0UjW4YDc9"
      },
      "execution_count": 7,
      "outputs": []
    },
    {
      "cell_type": "code",
      "source": [
        "doc1.similarity(doc2)"
      ],
      "metadata": {
        "colab": {
          "base_uri": "https://localhost:8080/"
        },
        "id": "sLw3tf85YDfj",
        "outputId": "0b25a5a4-63b2-4700-d31e-e49aa7794291"
      },
      "execution_count": 8,
      "outputs": [
        {
          "output_type": "execute_result",
          "data": {
            "text/plain": [
              "0.9865111392144139"
            ]
          },
          "metadata": {},
          "execution_count": 8
        }
      ]
    }
  ]
}