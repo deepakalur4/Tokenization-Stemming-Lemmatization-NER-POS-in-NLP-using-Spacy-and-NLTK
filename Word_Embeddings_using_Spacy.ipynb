{
  "nbformat": 4,
  "nbformat_minor": 0,
  "metadata": {
    "colab": {
      "provenance": []
    },
    "kernelspec": {
      "name": "python3",
      "display_name": "Python 3"
    },
    "language_info": {
      "name": "python"
    }
  },
  "cells": [
    {
      "cell_type": "code",
      "execution_count": 13,
      "metadata": {
        "colab": {
          "base_uri": "https://localhost:8080/"
        },
        "id": "QuRYDHKsNRQX",
        "outputId": "73eefc8a-51a3-49d5-9a21-acddbdb09176"
      },
      "outputs": [
        {
          "output_type": "stream",
          "name": "stdout",
          "text": [
            "\u001b[38;5;2m✔ Download and installation successful\u001b[0m\n",
            "You can now load the package via spacy.load('en_core_web_lg')\n",
            "\u001b[38;5;3m⚠ Restart to reload dependencies\u001b[0m\n",
            "If you are in a Jupyter or Colab notebook, you may need to restart Python in\n",
            "order to load all the package's dependencies. You can do this by selecting the\n",
            "'Restart kernel' or 'Restart runtime' option.\n"
          ]
        }
      ],
      "source": [
        "import spacy\n",
        "spacy.cli.download(\"en_core_web_lg\")\n",
        "nlp = spacy.load('en_core_web_lg')"
      ]
    },
    {
      "cell_type": "code",
      "source": [
        "doc=nlp(\"Apple is looking at buying U.K. startup for $1 billion\")"
      ],
      "metadata": {
        "id": "GWU2Ijh8NUVp"
      },
      "execution_count": 14,
      "outputs": []
    },
    {
      "cell_type": "code",
      "source": [
        "for word in doc:\n",
        "  print(word,\"|\",word.has_vector,word.vector[:5])"
      ],
      "metadata": {
        "colab": {
          "base_uri": "https://localhost:8080/"
        },
        "id": "WCjYJdTxNUX4",
        "outputId": "f1bcf94a-ca65-44d7-dabe-fad56ed00e2c"
      },
      "execution_count": 20,
      "outputs": [
        {
          "output_type": "stream",
          "name": "stdout",
          "text": [
            "Apple | True [-1.6859  2.9122  2.5477  3.7146  2.4753]\n",
            "is | True [ 1.475   6.0078  1.1205 -3.5874  3.7638]\n",
            "looking | True [ 2.113    3.0981  -1.42    -1.1231   0.15708]\n",
            "at | True [ 3.8102  -7.6937  -9.6256  -0.65272  7.4764 ]\n",
            "buying | True [-4.1676 -1.7729 -4.4649 -1.3491 -1.314 ]\n",
            "U.K. | True [ 0.95612 -0.62873  2.1103   0.39334  1.7501 ]\n",
            "startup | True [ 2.073    2.0243  -0.52735  0.64199  1.671  ]\n",
            "for | True [-7.0781  -2.6888  -4.0868   0.42781  6.6163 ]\n",
            "$ | True [ -8.2424  -6.6154 -36.677    6.7505   1.3295]\n",
            "1 | True [  2.5377 -13.823    3.0635   7.9353   9.6459]\n",
            "billion | True [-4.196  -3.8183 -4.4923  1.1196 -5.9056]\n"
          ]
        }
      ]
    },
    {
      "cell_type": "code",
      "source": [
        "def print_similarity(doc1,doc2):\n",
        "  doc1=nlp(doc1)\n",
        "  doc2=nlp(doc2)\n",
        "  print(\"Similarity between\",doc1,\"and\",doc2,\"is\",doc1.similarity(doc2))"
      ],
      "metadata": {
        "id": "iB4jFzf0NUcS"
      },
      "execution_count": 23,
      "outputs": []
    },
    {
      "cell_type": "code",
      "source": [
        "print_similarity(\"iphone\",\"Apple is looking at buying U.K. startup for $1 billion iphone\")"
      ],
      "metadata": {
        "colab": {
          "base_uri": "https://localhost:8080/"
        },
        "id": "hW1Whu-aNUeK",
        "outputId": "891137ce-667f-4b80-aed1-bf9a2c093e0d"
      },
      "execution_count": 24,
      "outputs": [
        {
          "output_type": "stream",
          "name": "stdout",
          "text": [
            "Similarity between iphone and Apple is looking at buying U.K. startup for $1 billion iphone is 0.3049223236673357\n"
          ]
        }
      ]
    },
    {
      "cell_type": "code",
      "source": [
        "print_similarity(\"iphone\",\"iphone is a very good phone\")"
      ],
      "metadata": {
        "colab": {
          "base_uri": "https://localhost:8080/"
        },
        "id": "ckGxEfhhNUiM",
        "outputId": "ebe5462d-706a-4258-b0a7-2562eb078420"
      },
      "execution_count": 26,
      "outputs": [
        {
          "output_type": "stream",
          "name": "stdout",
          "text": [
            "Similarity between iphone and iphone is a very good phone is 0.4270783943050522\n"
          ]
        }
      ]
    },
    {
      "cell_type": "code",
      "source": [
        "print_similarity(\"iphone\",\"iphone\")"
      ],
      "metadata": {
        "colab": {
          "base_uri": "https://localhost:8080/"
        },
        "id": "wcNajV59NUkY",
        "outputId": "30fa583d-a3df-4fed-fbbf-dfcf578dd7e9"
      },
      "execution_count": 27,
      "outputs": [
        {
          "output_type": "stream",
          "name": "stdout",
          "text": [
            "Similarity between iphone and iphone is 1.0\n"
          ]
        }
      ]
    },
    {
      "cell_type": "code",
      "source": [],
      "metadata": {
        "id": "oMWy2sPlO9gu"
      },
      "execution_count": null,
      "outputs": []
    }
  ]
}