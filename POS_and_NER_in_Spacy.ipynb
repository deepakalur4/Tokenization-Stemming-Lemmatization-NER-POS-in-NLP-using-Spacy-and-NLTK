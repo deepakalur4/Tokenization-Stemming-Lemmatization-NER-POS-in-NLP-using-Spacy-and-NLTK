{
  "nbformat": 4,
  "nbformat_minor": 0,
  "metadata": {
    "colab": {
      "provenance": []
    },
    "kernelspec": {
      "name": "python3",
      "display_name": "Python 3"
    },
    "language_info": {
      "name": "python"
    }
  },
  "cells": [
    {
      "cell_type": "code",
      "execution_count": 3,
      "metadata": {
        "id": "p6uZ0be-Rxfr"
      },
      "outputs": [],
      "source": [
        "import spacy"
      ]
    },
    {
      "cell_type": "code",
      "source": [
        "spacy.cli.download(\"en_core_web_lg\")"
      ],
      "metadata": {
        "colab": {
          "base_uri": "https://localhost:8080/"
        },
        "id": "VuYB-rU9UdRx",
        "outputId": "8add4651-66a6-42f3-f7e9-e4f1a7f1addd"
      },
      "execution_count": 4,
      "outputs": [
        {
          "output_type": "stream",
          "name": "stdout",
          "text": [
            "\u001b[38;5;2m✔ Download and installation successful\u001b[0m\n",
            "You can now load the package via spacy.load('en_core_web_lg')\n",
            "\u001b[38;5;3m⚠ Restart to reload dependencies\u001b[0m\n",
            "If you are in a Jupyter or Colab notebook, you may need to restart Python in\n",
            "order to load all the package's dependencies. You can do this by selecting the\n",
            "'Restart kernel' or 'Restart runtime' option.\n"
          ]
        }
      ]
    },
    {
      "cell_type": "code",
      "source": [
        "nlp=spacy.load(\"en_core_web_lg\")"
      ],
      "metadata": {
        "id": "x9pJ5s7GUgkO"
      },
      "execution_count": 6,
      "outputs": []
    },
    {
      "cell_type": "code",
      "source": [
        "doc=nlp(\"Elon flew to mars yesterday. He carried biryani masala with him\")"
      ],
      "metadata": {
        "id": "2l_S5FNcUkr3"
      },
      "execution_count": 8,
      "outputs": []
    },
    {
      "cell_type": "code",
      "source": [
        "for token in doc:\n",
        "  print(token,\"|\",token.pos_,\"|\",spacy.explain(token.pos_),\"|\",token.tag_,\"|\",spacy.explain(token.tag_))"
      ],
      "metadata": {
        "colab": {
          "base_uri": "https://localhost:8080/"
        },
        "id": "I83Rw9JOUmN_",
        "outputId": "b6d1777d-d2a6-4bf7-b3a6-ff22084248b9"
      },
      "execution_count": 15,
      "outputs": [
        {
          "output_type": "stream",
          "name": "stdout",
          "text": [
            "Elon | PROPN | proper noun | NNP | noun, proper singular\n",
            "flew | VERB | verb | VBD | verb, past tense\n",
            "to | ADP | adposition | IN | conjunction, subordinating or preposition\n",
            "mars | PROPN | proper noun | NNP | noun, proper singular\n",
            "yesterday | NOUN | noun | NN | noun, singular or mass\n",
            ". | PUNCT | punctuation | . | punctuation mark, sentence closer\n",
            "He | PRON | pronoun | PRP | pronoun, personal\n",
            "carried | VERB | verb | VBD | verb, past tense\n",
            "biryani | NOUN | noun | NN | noun, singular or mass\n",
            "masala | NOUN | noun | NN | noun, singular or mass\n",
            "with | ADP | adposition | IN | conjunction, subordinating or preposition\n",
            "him | PRON | pronoun | PRP | pronoun, personal\n"
          ]
        }
      ]
    },
    {
      "cell_type": "code",
      "source": [
        "earnings_text=\"\"\"Microsoft Corp. today announced the following results for the quarter ended December 31, 2021, as compared to the corresponding period of last fiscal year:\n",
        "\n",
        "·         Revenue was $51.7 billion and increased 20%\n",
        "·         Operating income was $22.2 billion and increased 24%\n",
        "·         Net income was $18.8 billion and increased 21%\n",
        "·         Diluted earnings per share was $2.48 and increased 22%\n",
        "“Digital technology is the most malleable resource at the world’s disposal to overcome constraints and reimagine everyday work and life,” said Satya Nadella, chairman and chief executive officer of Microsoft. “As tech as a percentage of global GDP continues to increase, we are innovating and investing across diverse and growing markets, with a common underlying technology stack and an operating model that reinforces a common strategy, culture, and sense of purpose.”\n",
        "“Solid commercial execution, represented by strong bookings growth driven by long-term Azure commitments, increased Microsoft Cloud revenue to $22.1 billion, up 32% year over year” said Amy Hood, executive vice president and chief financial officer of Microsoft.\"\"\"\n"
      ],
      "metadata": {
        "id": "51plIb5RUxjM"
      },
      "execution_count": 16,
      "outputs": []
    },
    {
      "cell_type": "code",
      "source": [
        "doc=nlp(earnings_text)"
      ],
      "metadata": {
        "id": "E-PqkuLAW9Cs"
      },
      "execution_count": 17,
      "outputs": []
    },
    {
      "cell_type": "code",
      "source": [
        "for token in doc:\n",
        "  print(token,\"|\",token.pos_,\"|\",spacy.explain(token.pos_),\"|\",token.tag_,\"|\",spacy.explain(token.tag_))"
      ],
      "metadata": {
        "colab": {
          "base_uri": "https://localhost:8080/"
        },
        "id": "aGlCche9XArd",
        "outputId": "3c2f5519-9fa1-477c-87dc-d03c13986c7f"
      },
      "execution_count": 18,
      "outputs": [
        {
          "output_type": "stream",
          "name": "stdout",
          "text": [
            "Microsoft | PROPN | proper noun | NNP | noun, proper singular\n",
            "Corp. | PROPN | proper noun | NNP | noun, proper singular\n",
            "today | NOUN | noun | NN | noun, singular or mass\n",
            "announced | VERB | verb | VBD | verb, past tense\n",
            "the | DET | determiner | DT | determiner\n",
            "following | VERB | verb | VBG | verb, gerund or present participle\n",
            "results | NOUN | noun | NNS | noun, plural\n",
            "for | ADP | adposition | IN | conjunction, subordinating or preposition\n",
            "the | DET | determiner | DT | determiner\n",
            "quarter | NOUN | noun | NN | noun, singular or mass\n",
            "ended | VERB | verb | VBD | verb, past tense\n",
            "December | PROPN | proper noun | NNP | noun, proper singular\n",
            "31 | NUM | numeral | CD | cardinal number\n",
            ", | PUNCT | punctuation | , | punctuation mark, comma\n",
            "2021 | NUM | numeral | CD | cardinal number\n",
            ", | PUNCT | punctuation | , | punctuation mark, comma\n",
            "as | SCONJ | subordinating conjunction | IN | conjunction, subordinating or preposition\n",
            "compared | VERB | verb | VBN | verb, past participle\n",
            "to | ADP | adposition | IN | conjunction, subordinating or preposition\n",
            "the | DET | determiner | DT | determiner\n",
            "corresponding | ADJ | adjective | JJ | adjective (English), other noun-modifier (Chinese)\n",
            "period | NOUN | noun | NN | noun, singular or mass\n",
            "of | ADP | adposition | IN | conjunction, subordinating or preposition\n",
            "last | ADJ | adjective | JJ | adjective (English), other noun-modifier (Chinese)\n",
            "fiscal | ADJ | adjective | JJ | adjective (English), other noun-modifier (Chinese)\n",
            "year | NOUN | noun | NN | noun, singular or mass\n",
            ": | PUNCT | punctuation | : | punctuation mark, colon or ellipsis\n",
            "\n",
            "\n",
            " | SPACE | space | _SP | whitespace\n",
            "· | PUNCT | punctuation | NFP | superfluous punctuation\n",
            "         | SPACE | space | _SP | whitespace\n",
            "Revenue | PROPN | proper noun | NNP | noun, proper singular\n",
            "was | AUX | auxiliary | VBD | verb, past tense\n",
            "$ | SYM | symbol | $ | symbol, currency\n",
            "51.7 | NUM | numeral | CD | cardinal number\n",
            "billion | NUM | numeral | CD | cardinal number\n",
            "and | CCONJ | coordinating conjunction | CC | conjunction, coordinating\n",
            "increased | VERB | verb | VBD | verb, past tense\n",
            "20 | NUM | numeral | CD | cardinal number\n",
            "% | NOUN | noun | NN | noun, singular or mass\n",
            "\n",
            " | SPACE | space | _SP | whitespace\n",
            "· | SYM | symbol | SYM | symbol\n",
            "         | SPACE | space | _SP | whitespace\n",
            "Operating | VERB | verb | VBG | verb, gerund or present participle\n",
            "income | NOUN | noun | NN | noun, singular or mass\n",
            "was | AUX | auxiliary | VBD | verb, past tense\n",
            "$ | SYM | symbol | $ | symbol, currency\n",
            "22.2 | NUM | numeral | CD | cardinal number\n",
            "billion | NUM | numeral | CD | cardinal number\n",
            "and | CCONJ | coordinating conjunction | CC | conjunction, coordinating\n",
            "increased | VERB | verb | VBD | verb, past tense\n",
            "24 | NUM | numeral | CD | cardinal number\n",
            "% | NOUN | noun | NN | noun, singular or mass\n",
            "\n",
            " | SPACE | space | _SP | whitespace\n",
            "· | PUNCT | punctuation | : | punctuation mark, colon or ellipsis\n",
            "         | SPACE | space | _SP | whitespace\n",
            "Net | ADJ | adjective | JJ | adjective (English), other noun-modifier (Chinese)\n",
            "income | NOUN | noun | NN | noun, singular or mass\n",
            "was | AUX | auxiliary | VBD | verb, past tense\n",
            "$ | SYM | symbol | $ | symbol, currency\n",
            "18.8 | NUM | numeral | CD | cardinal number\n",
            "billion | NUM | numeral | CD | cardinal number\n",
            "and | CCONJ | coordinating conjunction | CC | conjunction, coordinating\n",
            "increased | VERB | verb | VBD | verb, past tense\n",
            "21 | NUM | numeral | CD | cardinal number\n",
            "% | NOUN | noun | NN | noun, singular or mass\n",
            "\n",
            " | SPACE | space | _SP | whitespace\n",
            "· | SYM | symbol | SYM | symbol\n",
            "         | SPACE | space | _SP | whitespace\n",
            "Diluted | VERB | verb | VBN | verb, past participle\n",
            "earnings | NOUN | noun | NNS | noun, plural\n",
            "per | ADP | adposition | IN | conjunction, subordinating or preposition\n",
            "share | NOUN | noun | NN | noun, singular or mass\n",
            "was | AUX | auxiliary | VBD | verb, past tense\n",
            "$ | SYM | symbol | $ | symbol, currency\n",
            "2.48 | NUM | numeral | CD | cardinal number\n",
            "and | CCONJ | coordinating conjunction | CC | conjunction, coordinating\n",
            "increased | VERB | verb | VBD | verb, past tense\n",
            "22 | NUM | numeral | CD | cardinal number\n",
            "% | NOUN | noun | NN | noun, singular or mass\n",
            "\n",
            " | SPACE | space | _SP | whitespace\n",
            "“ | PUNCT | punctuation | `` | opening quotation mark\n",
            "Digital | ADJ | adjective | JJ | adjective (English), other noun-modifier (Chinese)\n",
            "technology | NOUN | noun | NN | noun, singular or mass\n",
            "is | AUX | auxiliary | VBZ | verb, 3rd person singular present\n",
            "the | DET | determiner | DT | determiner\n",
            "most | ADV | adverb | RBS | adverb, superlative\n",
            "malleable | ADJ | adjective | JJ | adjective (English), other noun-modifier (Chinese)\n",
            "resource | NOUN | noun | NN | noun, singular or mass\n",
            "at | ADP | adposition | IN | conjunction, subordinating or preposition\n",
            "the | DET | determiner | DT | determiner\n",
            "world | NOUN | noun | NN | noun, singular or mass\n",
            "’s | PART | particle | POS | possessive ending\n",
            "disposal | NOUN | noun | NN | noun, singular or mass\n",
            "to | PART | particle | TO | infinitival \"to\"\n",
            "overcome | VERB | verb | VB | verb, base form\n",
            "constraints | NOUN | noun | NNS | noun, plural\n",
            "and | CCONJ | coordinating conjunction | CC | conjunction, coordinating\n",
            "reimagine | VERB | verb | VB | verb, base form\n",
            "everyday | ADJ | adjective | JJ | adjective (English), other noun-modifier (Chinese)\n",
            "work | NOUN | noun | NN | noun, singular or mass\n",
            "and | CCONJ | coordinating conjunction | CC | conjunction, coordinating\n",
            "life | NOUN | noun | NN | noun, singular or mass\n",
            ", | PUNCT | punctuation | , | punctuation mark, comma\n",
            "” | PUNCT | punctuation | '' | closing quotation mark\n",
            "said | VERB | verb | VBD | verb, past tense\n",
            "Satya | PROPN | proper noun | NNP | noun, proper singular\n",
            "Nadella | PROPN | proper noun | NNP | noun, proper singular\n",
            ", | PUNCT | punctuation | , | punctuation mark, comma\n",
            "chairman | NOUN | noun | NN | noun, singular or mass\n",
            "and | CCONJ | coordinating conjunction | CC | conjunction, coordinating\n",
            "chief | ADJ | adjective | JJ | adjective (English), other noun-modifier (Chinese)\n",
            "executive | ADJ | adjective | JJ | adjective (English), other noun-modifier (Chinese)\n",
            "officer | NOUN | noun | NN | noun, singular or mass\n",
            "of | ADP | adposition | IN | conjunction, subordinating or preposition\n",
            "Microsoft | PROPN | proper noun | NNP | noun, proper singular\n",
            ". | PUNCT | punctuation | . | punctuation mark, sentence closer\n",
            "“ | PUNCT | punctuation | `` | opening quotation mark\n",
            "As | ADV | adverb | RB | adverb\n",
            "tech | NOUN | noun | NN | noun, singular or mass\n",
            "as | ADP | adposition | IN | conjunction, subordinating or preposition\n",
            "a | DET | determiner | DT | determiner\n",
            "percentage | NOUN | noun | NN | noun, singular or mass\n",
            "of | ADP | adposition | IN | conjunction, subordinating or preposition\n",
            "global | ADJ | adjective | JJ | adjective (English), other noun-modifier (Chinese)\n",
            "GDP | PROPN | proper noun | NNP | noun, proper singular\n",
            "continues | VERB | verb | VBZ | verb, 3rd person singular present\n",
            "to | PART | particle | TO | infinitival \"to\"\n",
            "increase | VERB | verb | VB | verb, base form\n",
            ", | PUNCT | punctuation | , | punctuation mark, comma\n",
            "we | PRON | pronoun | PRP | pronoun, personal\n",
            "are | AUX | auxiliary | VBP | verb, non-3rd person singular present\n",
            "innovating | VERB | verb | VBG | verb, gerund or present participle\n",
            "and | CCONJ | coordinating conjunction | CC | conjunction, coordinating\n",
            "investing | VERB | verb | VBG | verb, gerund or present participle\n",
            "across | ADP | adposition | IN | conjunction, subordinating or preposition\n",
            "diverse | ADJ | adjective | JJ | adjective (English), other noun-modifier (Chinese)\n",
            "and | CCONJ | coordinating conjunction | CC | conjunction, coordinating\n",
            "growing | VERB | verb | VBG | verb, gerund or present participle\n",
            "markets | NOUN | noun | NNS | noun, plural\n",
            ", | PUNCT | punctuation | , | punctuation mark, comma\n",
            "with | ADP | adposition | IN | conjunction, subordinating or preposition\n",
            "a | DET | determiner | DT | determiner\n",
            "common | ADJ | adjective | JJ | adjective (English), other noun-modifier (Chinese)\n",
            "underlying | VERB | verb | VBG | verb, gerund or present participle\n",
            "technology | NOUN | noun | NN | noun, singular or mass\n",
            "stack | NOUN | noun | NN | noun, singular or mass\n",
            "and | CCONJ | coordinating conjunction | CC | conjunction, coordinating\n",
            "an | DET | determiner | DT | determiner\n",
            "operating | NOUN | noun | NN | noun, singular or mass\n",
            "model | NOUN | noun | NN | noun, singular or mass\n",
            "that | PRON | pronoun | WDT | wh-determiner\n",
            "reinforces | VERB | verb | VBZ | verb, 3rd person singular present\n",
            "a | DET | determiner | DT | determiner\n",
            "common | ADJ | adjective | JJ | adjective (English), other noun-modifier (Chinese)\n",
            "strategy | NOUN | noun | NN | noun, singular or mass\n",
            ", | PUNCT | punctuation | , | punctuation mark, comma\n",
            "culture | NOUN | noun | NN | noun, singular or mass\n",
            ", | PUNCT | punctuation | , | punctuation mark, comma\n",
            "and | CCONJ | coordinating conjunction | CC | conjunction, coordinating\n",
            "sense | NOUN | noun | NN | noun, singular or mass\n",
            "of | ADP | adposition | IN | conjunction, subordinating or preposition\n",
            "purpose | NOUN | noun | NN | noun, singular or mass\n",
            ". | PUNCT | punctuation | . | punctuation mark, sentence closer\n",
            "” | PUNCT | punctuation | '' | closing quotation mark\n",
            "\n",
            " | SPACE | space | _SP | whitespace\n",
            "“ | PUNCT | punctuation | `` | opening quotation mark\n",
            "Solid | ADJ | adjective | JJ | adjective (English), other noun-modifier (Chinese)\n",
            "commercial | ADJ | adjective | JJ | adjective (English), other noun-modifier (Chinese)\n",
            "execution | NOUN | noun | NN | noun, singular or mass\n",
            ", | PUNCT | punctuation | , | punctuation mark, comma\n",
            "represented | VERB | verb | VBN | verb, past participle\n",
            "by | ADP | adposition | IN | conjunction, subordinating or preposition\n",
            "strong | ADJ | adjective | JJ | adjective (English), other noun-modifier (Chinese)\n",
            "bookings | NOUN | noun | NNS | noun, plural\n",
            "growth | NOUN | noun | NN | noun, singular or mass\n",
            "driven | VERB | verb | VBN | verb, past participle\n",
            "by | ADP | adposition | IN | conjunction, subordinating or preposition\n",
            "long | ADJ | adjective | JJ | adjective (English), other noun-modifier (Chinese)\n",
            "- | PUNCT | punctuation | HYPH | punctuation mark, hyphen\n",
            "term | NOUN | noun | NN | noun, singular or mass\n",
            "Azure | NOUN | noun | NN | noun, singular or mass\n",
            "commitments | NOUN | noun | NNS | noun, plural\n",
            ", | PUNCT | punctuation | , | punctuation mark, comma\n",
            "increased | VERB | verb | VBD | verb, past tense\n",
            "Microsoft | PROPN | proper noun | NNP | noun, proper singular\n",
            "Cloud | PROPN | proper noun | NNP | noun, proper singular\n",
            "revenue | NOUN | noun | NN | noun, singular or mass\n",
            "to | ADP | adposition | IN | conjunction, subordinating or preposition\n",
            "$ | SYM | symbol | $ | symbol, currency\n",
            "22.1 | NUM | numeral | CD | cardinal number\n",
            "billion | NUM | numeral | CD | cardinal number\n",
            ", | PUNCT | punctuation | , | punctuation mark, comma\n",
            "up | ADV | adverb | RB | adverb\n",
            "32 | NUM | numeral | CD | cardinal number\n",
            "% | NOUN | noun | NN | noun, singular or mass\n",
            "year | NOUN | noun | NN | noun, singular or mass\n",
            "over | ADP | adposition | IN | conjunction, subordinating or preposition\n",
            "year | NOUN | noun | NN | noun, singular or mass\n",
            "” | PUNCT | punctuation | '' | closing quotation mark\n",
            "said | VERB | verb | VBD | verb, past tense\n",
            "Amy | PROPN | proper noun | NNP | noun, proper singular\n",
            "Hood | PROPN | proper noun | NNP | noun, proper singular\n",
            ", | PUNCT | punctuation | , | punctuation mark, comma\n",
            "executive | ADJ | adjective | JJ | adjective (English), other noun-modifier (Chinese)\n",
            "vice | NOUN | noun | NN | noun, singular or mass\n",
            "president | NOUN | noun | NN | noun, singular or mass\n",
            "and | CCONJ | coordinating conjunction | CC | conjunction, coordinating\n",
            "chief | ADJ | adjective | JJ | adjective (English), other noun-modifier (Chinese)\n",
            "financial | ADJ | adjective | JJ | adjective (English), other noun-modifier (Chinese)\n",
            "officer | NOUN | noun | NN | noun, singular or mass\n",
            "of | ADP | adposition | IN | conjunction, subordinating or preposition\n",
            "Microsoft | PROPN | proper noun | NNP | noun, proper singular\n",
            ". | PUNCT | punctuation | . | punctuation mark, sentence closer\n"
          ]
        }
      ]
    },
    {
      "cell_type": "code",
      "source": [
        "for token in doc:\n",
        "  if token.pos_ not in [\"PUNCT\",\"X\",\"SPACE\"]:\n",
        "    print(token,\"|\",token.pos_,\"|\",spacy.explain(token.pos_),\"|\",token.tag_,\"|\",spacy.explain(token.tag_))"
      ],
      "metadata": {
        "colab": {
          "base_uri": "https://localhost:8080/"
        },
        "id": "Rxrc41HvXBul",
        "outputId": "b8b311c0-0d73-4524-c6b9-b914bb3dd831"
      },
      "execution_count": 21,
      "outputs": [
        {
          "output_type": "stream",
          "name": "stdout",
          "text": [
            "Microsoft | PROPN | proper noun | NNP | noun, proper singular\n",
            "Corp. | PROPN | proper noun | NNP | noun, proper singular\n",
            "today | NOUN | noun | NN | noun, singular or mass\n",
            "announced | VERB | verb | VBD | verb, past tense\n",
            "the | DET | determiner | DT | determiner\n",
            "following | VERB | verb | VBG | verb, gerund or present participle\n",
            "results | NOUN | noun | NNS | noun, plural\n",
            "for | ADP | adposition | IN | conjunction, subordinating or preposition\n",
            "the | DET | determiner | DT | determiner\n",
            "quarter | NOUN | noun | NN | noun, singular or mass\n",
            "ended | VERB | verb | VBD | verb, past tense\n",
            "December | PROPN | proper noun | NNP | noun, proper singular\n",
            "31 | NUM | numeral | CD | cardinal number\n",
            "2021 | NUM | numeral | CD | cardinal number\n",
            "as | SCONJ | subordinating conjunction | IN | conjunction, subordinating or preposition\n",
            "compared | VERB | verb | VBN | verb, past participle\n",
            "to | ADP | adposition | IN | conjunction, subordinating or preposition\n",
            "the | DET | determiner | DT | determiner\n",
            "corresponding | ADJ | adjective | JJ | adjective (English), other noun-modifier (Chinese)\n",
            "period | NOUN | noun | NN | noun, singular or mass\n",
            "of | ADP | adposition | IN | conjunction, subordinating or preposition\n",
            "last | ADJ | adjective | JJ | adjective (English), other noun-modifier (Chinese)\n",
            "fiscal | ADJ | adjective | JJ | adjective (English), other noun-modifier (Chinese)\n",
            "year | NOUN | noun | NN | noun, singular or mass\n",
            "Revenue | PROPN | proper noun | NNP | noun, proper singular\n",
            "was | AUX | auxiliary | VBD | verb, past tense\n",
            "$ | SYM | symbol | $ | symbol, currency\n",
            "51.7 | NUM | numeral | CD | cardinal number\n",
            "billion | NUM | numeral | CD | cardinal number\n",
            "and | CCONJ | coordinating conjunction | CC | conjunction, coordinating\n",
            "increased | VERB | verb | VBD | verb, past tense\n",
            "20 | NUM | numeral | CD | cardinal number\n",
            "% | NOUN | noun | NN | noun, singular or mass\n",
            "· | SYM | symbol | SYM | symbol\n",
            "Operating | VERB | verb | VBG | verb, gerund or present participle\n",
            "income | NOUN | noun | NN | noun, singular or mass\n",
            "was | AUX | auxiliary | VBD | verb, past tense\n",
            "$ | SYM | symbol | $ | symbol, currency\n",
            "22.2 | NUM | numeral | CD | cardinal number\n",
            "billion | NUM | numeral | CD | cardinal number\n",
            "and | CCONJ | coordinating conjunction | CC | conjunction, coordinating\n",
            "increased | VERB | verb | VBD | verb, past tense\n",
            "24 | NUM | numeral | CD | cardinal number\n",
            "% | NOUN | noun | NN | noun, singular or mass\n",
            "Net | ADJ | adjective | JJ | adjective (English), other noun-modifier (Chinese)\n",
            "income | NOUN | noun | NN | noun, singular or mass\n",
            "was | AUX | auxiliary | VBD | verb, past tense\n",
            "$ | SYM | symbol | $ | symbol, currency\n",
            "18.8 | NUM | numeral | CD | cardinal number\n",
            "billion | NUM | numeral | CD | cardinal number\n",
            "and | CCONJ | coordinating conjunction | CC | conjunction, coordinating\n",
            "increased | VERB | verb | VBD | verb, past tense\n",
            "21 | NUM | numeral | CD | cardinal number\n",
            "% | NOUN | noun | NN | noun, singular or mass\n",
            "· | SYM | symbol | SYM | symbol\n",
            "Diluted | VERB | verb | VBN | verb, past participle\n",
            "earnings | NOUN | noun | NNS | noun, plural\n",
            "per | ADP | adposition | IN | conjunction, subordinating or preposition\n",
            "share | NOUN | noun | NN | noun, singular or mass\n",
            "was | AUX | auxiliary | VBD | verb, past tense\n",
            "$ | SYM | symbol | $ | symbol, currency\n",
            "2.48 | NUM | numeral | CD | cardinal number\n",
            "and | CCONJ | coordinating conjunction | CC | conjunction, coordinating\n",
            "increased | VERB | verb | VBD | verb, past tense\n",
            "22 | NUM | numeral | CD | cardinal number\n",
            "% | NOUN | noun | NN | noun, singular or mass\n",
            "Digital | ADJ | adjective | JJ | adjective (English), other noun-modifier (Chinese)\n",
            "technology | NOUN | noun | NN | noun, singular or mass\n",
            "is | AUX | auxiliary | VBZ | verb, 3rd person singular present\n",
            "the | DET | determiner | DT | determiner\n",
            "most | ADV | adverb | RBS | adverb, superlative\n",
            "malleable | ADJ | adjective | JJ | adjective (English), other noun-modifier (Chinese)\n",
            "resource | NOUN | noun | NN | noun, singular or mass\n",
            "at | ADP | adposition | IN | conjunction, subordinating or preposition\n",
            "the | DET | determiner | DT | determiner\n",
            "world | NOUN | noun | NN | noun, singular or mass\n",
            "’s | PART | particle | POS | possessive ending\n",
            "disposal | NOUN | noun | NN | noun, singular or mass\n",
            "to | PART | particle | TO | infinitival \"to\"\n",
            "overcome | VERB | verb | VB | verb, base form\n",
            "constraints | NOUN | noun | NNS | noun, plural\n",
            "and | CCONJ | coordinating conjunction | CC | conjunction, coordinating\n",
            "reimagine | VERB | verb | VB | verb, base form\n",
            "everyday | ADJ | adjective | JJ | adjective (English), other noun-modifier (Chinese)\n",
            "work | NOUN | noun | NN | noun, singular or mass\n",
            "and | CCONJ | coordinating conjunction | CC | conjunction, coordinating\n",
            "life | NOUN | noun | NN | noun, singular or mass\n",
            "said | VERB | verb | VBD | verb, past tense\n",
            "Satya | PROPN | proper noun | NNP | noun, proper singular\n",
            "Nadella | PROPN | proper noun | NNP | noun, proper singular\n",
            "chairman | NOUN | noun | NN | noun, singular or mass\n",
            "and | CCONJ | coordinating conjunction | CC | conjunction, coordinating\n",
            "chief | ADJ | adjective | JJ | adjective (English), other noun-modifier (Chinese)\n",
            "executive | ADJ | adjective | JJ | adjective (English), other noun-modifier (Chinese)\n",
            "officer | NOUN | noun | NN | noun, singular or mass\n",
            "of | ADP | adposition | IN | conjunction, subordinating or preposition\n",
            "Microsoft | PROPN | proper noun | NNP | noun, proper singular\n",
            "As | ADV | adverb | RB | adverb\n",
            "tech | NOUN | noun | NN | noun, singular or mass\n",
            "as | ADP | adposition | IN | conjunction, subordinating or preposition\n",
            "a | DET | determiner | DT | determiner\n",
            "percentage | NOUN | noun | NN | noun, singular or mass\n",
            "of | ADP | adposition | IN | conjunction, subordinating or preposition\n",
            "global | ADJ | adjective | JJ | adjective (English), other noun-modifier (Chinese)\n",
            "GDP | PROPN | proper noun | NNP | noun, proper singular\n",
            "continues | VERB | verb | VBZ | verb, 3rd person singular present\n",
            "to | PART | particle | TO | infinitival \"to\"\n",
            "increase | VERB | verb | VB | verb, base form\n",
            "we | PRON | pronoun | PRP | pronoun, personal\n",
            "are | AUX | auxiliary | VBP | verb, non-3rd person singular present\n",
            "innovating | VERB | verb | VBG | verb, gerund or present participle\n",
            "and | CCONJ | coordinating conjunction | CC | conjunction, coordinating\n",
            "investing | VERB | verb | VBG | verb, gerund or present participle\n",
            "across | ADP | adposition | IN | conjunction, subordinating or preposition\n",
            "diverse | ADJ | adjective | JJ | adjective (English), other noun-modifier (Chinese)\n",
            "and | CCONJ | coordinating conjunction | CC | conjunction, coordinating\n",
            "growing | VERB | verb | VBG | verb, gerund or present participle\n",
            "markets | NOUN | noun | NNS | noun, plural\n",
            "with | ADP | adposition | IN | conjunction, subordinating or preposition\n",
            "a | DET | determiner | DT | determiner\n",
            "common | ADJ | adjective | JJ | adjective (English), other noun-modifier (Chinese)\n",
            "underlying | VERB | verb | VBG | verb, gerund or present participle\n",
            "technology | NOUN | noun | NN | noun, singular or mass\n",
            "stack | NOUN | noun | NN | noun, singular or mass\n",
            "and | CCONJ | coordinating conjunction | CC | conjunction, coordinating\n",
            "an | DET | determiner | DT | determiner\n",
            "operating | NOUN | noun | NN | noun, singular or mass\n",
            "model | NOUN | noun | NN | noun, singular or mass\n",
            "that | PRON | pronoun | WDT | wh-determiner\n",
            "reinforces | VERB | verb | VBZ | verb, 3rd person singular present\n",
            "a | DET | determiner | DT | determiner\n",
            "common | ADJ | adjective | JJ | adjective (English), other noun-modifier (Chinese)\n",
            "strategy | NOUN | noun | NN | noun, singular or mass\n",
            "culture | NOUN | noun | NN | noun, singular or mass\n",
            "and | CCONJ | coordinating conjunction | CC | conjunction, coordinating\n",
            "sense | NOUN | noun | NN | noun, singular or mass\n",
            "of | ADP | adposition | IN | conjunction, subordinating or preposition\n",
            "purpose | NOUN | noun | NN | noun, singular or mass\n",
            "Solid | ADJ | adjective | JJ | adjective (English), other noun-modifier (Chinese)\n",
            "commercial | ADJ | adjective | JJ | adjective (English), other noun-modifier (Chinese)\n",
            "execution | NOUN | noun | NN | noun, singular or mass\n",
            "represented | VERB | verb | VBN | verb, past participle\n",
            "by | ADP | adposition | IN | conjunction, subordinating or preposition\n",
            "strong | ADJ | adjective | JJ | adjective (English), other noun-modifier (Chinese)\n",
            "bookings | NOUN | noun | NNS | noun, plural\n",
            "growth | NOUN | noun | NN | noun, singular or mass\n",
            "driven | VERB | verb | VBN | verb, past participle\n",
            "by | ADP | adposition | IN | conjunction, subordinating or preposition\n",
            "long | ADJ | adjective | JJ | adjective (English), other noun-modifier (Chinese)\n",
            "term | NOUN | noun | NN | noun, singular or mass\n",
            "Azure | NOUN | noun | NN | noun, singular or mass\n",
            "commitments | NOUN | noun | NNS | noun, plural\n",
            "increased | VERB | verb | VBD | verb, past tense\n",
            "Microsoft | PROPN | proper noun | NNP | noun, proper singular\n",
            "Cloud | PROPN | proper noun | NNP | noun, proper singular\n",
            "revenue | NOUN | noun | NN | noun, singular or mass\n",
            "to | ADP | adposition | IN | conjunction, subordinating or preposition\n",
            "$ | SYM | symbol | $ | symbol, currency\n",
            "22.1 | NUM | numeral | CD | cardinal number\n",
            "billion | NUM | numeral | CD | cardinal number\n",
            "up | ADV | adverb | RB | adverb\n",
            "32 | NUM | numeral | CD | cardinal number\n",
            "% | NOUN | noun | NN | noun, singular or mass\n",
            "year | NOUN | noun | NN | noun, singular or mass\n",
            "over | ADP | adposition | IN | conjunction, subordinating or preposition\n",
            "year | NOUN | noun | NN | noun, singular or mass\n",
            "said | VERB | verb | VBD | verb, past tense\n",
            "Amy | PROPN | proper noun | NNP | noun, proper singular\n",
            "Hood | PROPN | proper noun | NNP | noun, proper singular\n",
            "executive | ADJ | adjective | JJ | adjective (English), other noun-modifier (Chinese)\n",
            "vice | NOUN | noun | NN | noun, singular or mass\n",
            "president | NOUN | noun | NN | noun, singular or mass\n",
            "and | CCONJ | coordinating conjunction | CC | conjunction, coordinating\n",
            "chief | ADJ | adjective | JJ | adjective (English), other noun-modifier (Chinese)\n",
            "financial | ADJ | adjective | JJ | adjective (English), other noun-modifier (Chinese)\n",
            "officer | NOUN | noun | NN | noun, singular or mass\n",
            "of | ADP | adposition | IN | conjunction, subordinating or preposition\n",
            "Microsoft | PROPN | proper noun | NNP | noun, proper singular\n"
          ]
        }
      ]
    },
    {
      "cell_type": "code",
      "source": [
        "filtered_tokens=list()\n",
        "for token in doc:\n",
        "  if token.pos_ not in [\"PUNCT\",\"X\",\"SPACE\"]:\n",
        "    # print(token,\"|\",token.pos_,\"|\",spacy.explain(token.pos_),\"|\",token.tag_,\"|\",spacy.explain(token.tag_))\n",
        "    filtered_tokens.append(token.text)"
      ],
      "metadata": {
        "id": "vaPbJIsvXRPR"
      },
      "execution_count": 22,
      "outputs": []
    },
    {
      "cell_type": "code",
      "source": [
        "print(filtered_tokens)"
      ],
      "metadata": {
        "colab": {
          "base_uri": "https://localhost:8080/"
        },
        "id": "bklGklKRXeSN",
        "outputId": "8c29166c-dd62-4eaa-bd72-5af998c0d158"
      },
      "execution_count": 24,
      "outputs": [
        {
          "output_type": "stream",
          "name": "stdout",
          "text": [
            "['Microsoft', 'Corp.', 'today', 'announced', 'the', 'following', 'results', 'for', 'the', 'quarter', 'ended', 'December', '31', '2021', 'as', 'compared', 'to', 'the', 'corresponding', 'period', 'of', 'last', 'fiscal', 'year', 'Revenue', 'was', '$', '51.7', 'billion', 'and', 'increased', '20', '%', '·', 'Operating', 'income', 'was', '$', '22.2', 'billion', 'and', 'increased', '24', '%', 'Net', 'income', 'was', '$', '18.8', 'billion', 'and', 'increased', '21', '%', '·', 'Diluted', 'earnings', 'per', 'share', 'was', '$', '2.48', 'and', 'increased', '22', '%', 'Digital', 'technology', 'is', 'the', 'most', 'malleable', 'resource', 'at', 'the', 'world', '’s', 'disposal', 'to', 'overcome', 'constraints', 'and', 'reimagine', 'everyday', 'work', 'and', 'life', 'said', 'Satya', 'Nadella', 'chairman', 'and', 'chief', 'executive', 'officer', 'of', 'Microsoft', 'As', 'tech', 'as', 'a', 'percentage', 'of', 'global', 'GDP', 'continues', 'to', 'increase', 'we', 'are', 'innovating', 'and', 'investing', 'across', 'diverse', 'and', 'growing', 'markets', 'with', 'a', 'common', 'underlying', 'technology', 'stack', 'and', 'an', 'operating', 'model', 'that', 'reinforces', 'a', 'common', 'strategy', 'culture', 'and', 'sense', 'of', 'purpose', 'Solid', 'commercial', 'execution', 'represented', 'by', 'strong', 'bookings', 'growth', 'driven', 'by', 'long', 'term', 'Azure', 'commitments', 'increased', 'Microsoft', 'Cloud', 'revenue', 'to', '$', '22.1', 'billion', 'up', '32', '%', 'year', 'over', 'year', 'said', 'Amy', 'Hood', 'executive', 'vice', 'president', 'and', 'chief', 'financial', 'officer', 'of', 'Microsoft']\n"
          ]
        }
      ]
    },
    {
      "cell_type": "code",
      "source": [
        "doc.count_by(spacy.attrs.POS)"
      ],
      "metadata": {
        "colab": {
          "base_uri": "https://localhost:8080/"
        },
        "id": "IgJdkp_JXfA-",
        "outputId": "862ed2cf-e421-40be-ac34-b960318a02c7"
      },
      "execution_count": 25,
      "outputs": [
        {
          "output_type": "execute_result",
          "data": {
            "text/plain": [
              "{96: 13,\n",
              " 92: 46,\n",
              " 100: 24,\n",
              " 90: 9,\n",
              " 85: 16,\n",
              " 93: 16,\n",
              " 97: 25,\n",
              " 98: 1,\n",
              " 84: 20,\n",
              " 103: 10,\n",
              " 87: 6,\n",
              " 99: 7,\n",
              " 89: 12,\n",
              " 86: 3,\n",
              " 94: 3,\n",
              " 95: 2}"
            ]
          },
          "metadata": {},
          "execution_count": 25
        }
      ]
    },
    {
      "cell_type": "code",
      "source": [
        "doc_lib=doc.count_by(spacy.attrs.POS)"
      ],
      "metadata": {
        "id": "4-mqLLcPYEYZ"
      },
      "execution_count": 26,
      "outputs": []
    },
    {
      "cell_type": "code",
      "source": [
        "for k,v in doc_lib.items():\n",
        "  print(doc.vocab[k].text,v)"
      ],
      "metadata": {
        "colab": {
          "base_uri": "https://localhost:8080/"
        },
        "id": "q6iqmao6YHIL",
        "outputId": "0d361578-b364-44c0-8fe1-66276bfbf94f"
      },
      "execution_count": 31,
      "outputs": [
        {
          "output_type": "stream",
          "name": "stdout",
          "text": [
            "PROPN 13\n",
            "NOUN 46\n",
            "VERB 24\n",
            "DET 9\n",
            "ADP 16\n",
            "NUM 16\n",
            "PUNCT 25\n",
            "SCONJ 1\n",
            "ADJ 20\n",
            "SPACE 10\n",
            "AUX 6\n",
            "SYM 7\n",
            "CCONJ 12\n",
            "ADV 3\n",
            "PART 3\n",
            "PRON 2\n"
          ]
        }
      ]
    },
    {
      "cell_type": "code",
      "source": [
        "doc.vocab[96].text"
      ],
      "metadata": {
        "colab": {
          "base_uri": "https://localhost:8080/",
          "height": 36
        },
        "id": "HVD0d2q7YMB5",
        "outputId": "16c12ccf-467a-463e-cec0-370bdd09547e"
      },
      "execution_count": 30,
      "outputs": [
        {
          "output_type": "execute_result",
          "data": {
            "text/plain": [
              "'PROPN'"
            ],
            "application/vnd.google.colaboratory.intrinsic+json": {
              "type": "string"
            }
          },
          "metadata": {},
          "execution_count": 30
        }
      ]
    },
    {
      "cell_type": "code",
      "source": [
        "doc.count_by(spacy.attrs.POS)"
      ],
      "metadata": {
        "colab": {
          "base_uri": "https://localhost:8080/"
        },
        "id": "JZaHFHjmYf0E",
        "outputId": "7d39d548-87d6-4288-a140-103b824cb213"
      },
      "execution_count": 34,
      "outputs": [
        {
          "output_type": "execute_result",
          "data": {
            "text/plain": [
              "{96: 13,\n",
              " 92: 46,\n",
              " 100: 24,\n",
              " 90: 9,\n",
              " 85: 16,\n",
              " 93: 16,\n",
              " 97: 25,\n",
              " 98: 1,\n",
              " 84: 20,\n",
              " 103: 10,\n",
              " 87: 6,\n",
              " 99: 7,\n",
              " 89: 12,\n",
              " 86: 3,\n",
              " 94: 3,\n",
              " 95: 2}"
            ]
          },
          "metadata": {},
          "execution_count": 34
        }
      ]
    },
    {
      "cell_type": "markdown",
      "source": [
        "# Named Entity Recognition"
      ],
      "metadata": {
        "id": "z8KVxZIWax-d"
      }
    },
    {
      "cell_type": "code",
      "source": [
        "doc = nlp(\"Tesla Inc is going to acquire Twitter for $45 billion\")"
      ],
      "metadata": {
        "id": "CpV2EUOLYnyo"
      },
      "execution_count": 41,
      "outputs": []
    },
    {
      "cell_type": "code",
      "source": [
        "for ent in doc.ents:\n",
        "  print(ent.text,\"|\",ent.label_,\"|\",spacy.explain(ent.label_))"
      ],
      "metadata": {
        "colab": {
          "base_uri": "https://localhost:8080/"
        },
        "id": "Am4pZXZpa2iT",
        "outputId": "e6188625-c07b-406c-953c-37df44880178"
      },
      "execution_count": 42,
      "outputs": [
        {
          "output_type": "stream",
          "name": "stdout",
          "text": [
            "Tesla Inc | ORG | Companies, agencies, institutions, etc.\n",
            "Twitter | ORG | Companies, agencies, institutions, etc.\n",
            "$45 billion | MONEY | Monetary values, including unit\n"
          ]
        }
      ]
    },
    {
      "cell_type": "code",
      "source": [
        "from spacy import displacy"
      ],
      "metadata": {
        "id": "UUtjhVpXa5sN"
      },
      "execution_count": 43,
      "outputs": []
    },
    {
      "cell_type": "code",
      "source": [
        "displacy.render(doc,style=\"ent\")"
      ],
      "metadata": {
        "colab": {
          "base_uri": "https://localhost:8080/",
          "height": 52
        },
        "id": "kf08GmasbFUt",
        "outputId": "c699015e-60e2-44c4-ca03-0350b133afe8"
      },
      "execution_count": 44,
      "outputs": [
        {
          "output_type": "display_data",
          "data": {
            "text/plain": [
              "<IPython.core.display.HTML object>"
            ],
            "text/html": [
              "<span class=\"tex2jax_ignore\"><div class=\"entities\" style=\"line-height: 2.5; direction: ltr\">\n",
              "<mark class=\"entity\" style=\"background: #7aecec; padding: 0.45em 0.6em; margin: 0 0.25em; line-height: 1; border-radius: 0.35em;\">\n",
              "    Tesla Inc\n",
              "    <span style=\"font-size: 0.8em; font-weight: bold; line-height: 1; border-radius: 0.35em; vertical-align: middle; margin-left: 0.5rem\">ORG</span>\n",
              "</mark>\n",
              " is going to acquire \n",
              "<mark class=\"entity\" style=\"background: #7aecec; padding: 0.45em 0.6em; margin: 0 0.25em; line-height: 1; border-radius: 0.35em;\">\n",
              "    Twitter\n",
              "    <span style=\"font-size: 0.8em; font-weight: bold; line-height: 1; border-radius: 0.35em; vertical-align: middle; margin-left: 0.5rem\">ORG</span>\n",
              "</mark>\n",
              " for \n",
              "<mark class=\"entity\" style=\"background: #e4e7d2; padding: 0.45em 0.6em; margin: 0 0.25em; line-height: 1; border-radius: 0.35em;\">\n",
              "    $45 billion\n",
              "    <span style=\"font-size: 0.8em; font-weight: bold; line-height: 1; border-radius: 0.35em; vertical-align: middle; margin-left: 0.5rem\">MONEY</span>\n",
              "</mark>\n",
              "</div></span>"
            ]
          },
          "metadata": {}
        }
      ]
    },
    {
      "cell_type": "code",
      "source": [
        "nlp.pipe_labels[\"ner\"]"
      ],
      "metadata": {
        "colab": {
          "base_uri": "https://localhost:8080/"
        },
        "id": "Ia5NKgZAbIs3",
        "outputId": "c60a9fdf-2746-49ea-a235-786f4e8633a2"
      },
      "execution_count": 46,
      "outputs": [
        {
          "output_type": "execute_result",
          "data": {
            "text/plain": [
              "['CARDINAL',\n",
              " 'DATE',\n",
              " 'EVENT',\n",
              " 'FAC',\n",
              " 'GPE',\n",
              " 'LANGUAGE',\n",
              " 'LAW',\n",
              " 'LOC',\n",
              " 'MONEY',\n",
              " 'NORP',\n",
              " 'ORDINAL',\n",
              " 'ORG',\n",
              " 'PERCENT',\n",
              " 'PERSON',\n",
              " 'PRODUCT',\n",
              " 'QUANTITY',\n",
              " 'TIME',\n",
              " 'WORK_OF_ART']"
            ]
          },
          "metadata": {},
          "execution_count": 46
        }
      ]
    },
    {
      "cell_type": "code",
      "source": [
        "doc = nlp(\"Tesla is going to acquire twitter for $45 billion\")"
      ],
      "metadata": {
        "id": "XhoeGfApbfEQ"
      },
      "execution_count": 54,
      "outputs": []
    },
    {
      "cell_type": "code",
      "source": [
        "type(doc[2:5])"
      ],
      "metadata": {
        "colab": {
          "base_uri": "https://localhost:8080/"
        },
        "id": "jEXzACc0ckXZ",
        "outputId": "6ddb6ebf-02b0-4546-b7bf-eaabaabc5293"
      },
      "execution_count": 55,
      "outputs": [
        {
          "output_type": "execute_result",
          "data": {
            "text/plain": [
              "spacy.tokens.span.Span"
            ]
          },
          "metadata": {},
          "execution_count": 55
        }
      ]
    },
    {
      "cell_type": "code",
      "source": [
        "from spacy.tokens import Span"
      ],
      "metadata": {
        "id": "gfOud3ficnua"
      },
      "execution_count": 59,
      "outputs": []
    },
    {
      "cell_type": "code",
      "source": [
        "s1=Span(doc,0,1,label=\"ORG\")\n",
        "s2=Span(doc,5,6,label=\"ORG\")\n",
        "doc.set_ents([s1,s2],default=\"unmodified\")"
      ],
      "metadata": {
        "id": "fWvfdT1Lcsmj"
      },
      "execution_count": 60,
      "outputs": []
    },
    {
      "cell_type": "code",
      "source": [],
      "metadata": {
        "id": "0UNZKmcbc1Co"
      },
      "execution_count": null,
      "outputs": []
    }
  ]
}