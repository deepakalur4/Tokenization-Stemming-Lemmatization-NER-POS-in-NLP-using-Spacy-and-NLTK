{
  "nbformat": 4,
  "nbformat_minor": 0,
  "metadata": {
    "colab": {
      "provenance": []
    },
    "kernelspec": {
      "name": "python3",
      "display_name": "Python 3"
    },
    "language_info": {
      "name": "python"
    }
  },
  "cells": [
    {
      "cell_type": "code",
      "execution_count": 1,
      "metadata": {
        "id": "jahx0R5TKJ1K"
      },
      "outputs": [],
      "source": [
        "import spacy\n",
        "import nltk"
      ]
    },
    {
      "cell_type": "code",
      "source": [
        "from nltk.stem import PorterStemmer"
      ],
      "metadata": {
        "id": "-UgvYy2bNJ1R"
      },
      "execution_count": 2,
      "outputs": []
    },
    {
      "cell_type": "code",
      "source": [
        "stemmer=PorterStemmer()"
      ],
      "metadata": {
        "id": "BJAmO4UVNPuf"
      },
      "execution_count": 3,
      "outputs": []
    },
    {
      "cell_type": "code",
      "source": [
        "words = [\"eating\", \"eats\", \"eat\", \"ate\", \"adjustable\", \"rafting\", \"ability\", \"meeting\"]"
      ],
      "metadata": {
        "id": "tIlM5V7MNRa5"
      },
      "execution_count": 4,
      "outputs": []
    },
    {
      "cell_type": "code",
      "source": [
        "for i in words:\n",
        "  print(i,stemmer.stem(i))"
      ],
      "metadata": {
        "colab": {
          "base_uri": "https://localhost:8080/"
        },
        "id": "_QuvQFPzNgA4",
        "outputId": "9ccd157b-3a35-4a76-94d7-e499ceeb6c7d"
      },
      "execution_count": 5,
      "outputs": [
        {
          "output_type": "stream",
          "name": "stdout",
          "text": [
            "eating eat\n",
            "eats eat\n",
            "eat eat\n",
            "ate ate\n",
            "adjustable adjust\n",
            "rafting raft\n",
            "ability abil\n",
            "meeting meet\n"
          ]
        }
      ]
    },
    {
      "cell_type": "code",
      "source": [
        "spacy.cli.download(\"en_core_web_lg\")"
      ],
      "metadata": {
        "colab": {
          "base_uri": "https://localhost:8080/"
        },
        "id": "LdGeza5eNwzb",
        "outputId": "2d9fbcf9-c26b-4579-ec28-6d12616c888d"
      },
      "execution_count": 7,
      "outputs": [
        {
          "output_type": "stream",
          "name": "stdout",
          "text": [
            "\u001b[38;5;2m✔ Download and installation successful\u001b[0m\n",
            "You can now load the package via spacy.load('en_core_web_lg')\n",
            "\u001b[38;5;3m⚠ Restart to reload dependencies\u001b[0m\n",
            "If you are in a Jupyter or Colab notebook, you may need to restart Python in\n",
            "order to load all the package's dependencies. You can do this by selecting the\n",
            "'Restart kernel' or 'Restart runtime' option.\n"
          ]
        }
      ]
    },
    {
      "cell_type": "code",
      "source": [
        "nlp=spacy.load(\"en_core_web_lg\")"
      ],
      "metadata": {
        "id": "f2ihha34NkYS"
      },
      "execution_count": 8,
      "outputs": []
    },
    {
      "cell_type": "code",
      "source": [
        "doc=nlp((\"eating eats eat ate adjustable rafting ability meeting better\"))"
      ],
      "metadata": {
        "id": "HDoGE27TNu8B"
      },
      "execution_count": 9,
      "outputs": []
    },
    {
      "cell_type": "code",
      "source": [
        "for token in doc:\n",
        "  print(token.text,\"||\",token.lemma_,token.lemma)"
      ],
      "metadata": {
        "colab": {
          "base_uri": "https://localhost:8080/"
        },
        "id": "MhMCkKaVN_0M",
        "outputId": "af1669a5-933c-4111-85cd-2f20571d6a3e"
      },
      "execution_count": 11,
      "outputs": [
        {
          "output_type": "stream",
          "name": "stdout",
          "text": [
            "eating || eating 12092082220177030354\n",
            "eats || eat 9837207709914848172\n",
            "eat || eat 9837207709914848172\n",
            "ate || eat 9837207709914848172\n",
            "adjustable || adjustable 6033511944150694480\n",
            "rafting || rafting 1196139325854331\n",
            "ability || ability 11565809527369121409\n",
            "meeting || meet 6880656908171229526\n",
            "better || well 4525988469032889948\n"
          ]
        }
      ]
    },
    {
      "cell_type": "code",
      "source": [
        "doc=nlp((\"Mando talked for 3 hours although talking isn't his thing\"))"
      ],
      "metadata": {
        "id": "OWKP4DbwOE8c"
      },
      "execution_count": 12,
      "outputs": []
    },
    {
      "cell_type": "code",
      "source": [
        "for token in doc:\n",
        "  print(token.text,\"||\",token.lemma_,\"||\",token.lemma)"
      ],
      "metadata": {
        "colab": {
          "base_uri": "https://localhost:8080/"
        },
        "id": "IWHOLvP7OXKi",
        "outputId": "e03a3d2c-122d-48bc-d013-e58b21e2ecf3"
      },
      "execution_count": 14,
      "outputs": [
        {
          "output_type": "stream",
          "name": "stdout",
          "text": [
            "Mando || Mando || 7837215228004622142\n",
            "talked || talk || 13939146775466599234\n",
            "for || for || 16037325823156266367\n",
            "3 || 3 || 602994839685422785\n",
            "hours || hour || 9748623380567160636\n",
            "although || although || 343236316598008647\n",
            "talking || talk || 13939146775466599234\n",
            "is || be || 10382539506755952630\n",
            "n't || not || 447765159362469301\n",
            "his || his || 2661093235354845946\n",
            "thing || thing || 2473243759842082748\n"
          ]
        }
      ]
    },
    {
      "cell_type": "code",
      "source": [
        "nlp.pipe_names"
      ],
      "metadata": {
        "colab": {
          "base_uri": "https://localhost:8080/"
        },
        "id": "Em7tt3VEOX-J",
        "outputId": "e13b12d4-9bc3-40ee-cc7b-8bc49b2e5284"
      },
      "execution_count": 15,
      "outputs": [
        {
          "output_type": "execute_result",
          "data": {
            "text/plain": [
              "['tok2vec', 'tagger', 'parser', 'attribute_ruler', 'lemmatizer', 'ner']"
            ]
          },
          "metadata": {},
          "execution_count": 15
        }
      ]
    },
    {
      "cell_type": "code",
      "source": [
        "doc = nlp(\"Bro, you wanna go? Brah, don't say no! I am exhausted\")"
      ],
      "metadata": {
        "id": "4zk3-J60OhEv"
      },
      "execution_count": 30,
      "outputs": []
    },
    {
      "cell_type": "code",
      "source": [
        "for token in doc:\n",
        "  print(token.text,\"||\",token.lemma_,\"||\",token.lemma)"
      ],
      "metadata": {
        "colab": {
          "base_uri": "https://localhost:8080/"
        },
        "id": "lOMxcAD6Oqbb",
        "outputId": "15c0c67d-9fc8-4b6e-bfbf-577478f34f36"
      },
      "execution_count": 31,
      "outputs": [
        {
          "output_type": "stream",
          "name": "stdout",
          "text": [
            "Bro || Brother || 4347558510128575363\n",
            ", || , || 2593208677638477497\n",
            "you || you || 7624161793554793053\n",
            "wanna || wanna || 13000462173222681081\n",
            "go || go || 8004577259940138793\n",
            "? || ? || 8205403955989537350\n",
            "Brah || Brother || 4347558510128575363\n",
            ", || , || 2593208677638477497\n",
            "do || do || 2158845516055552166\n",
            "n't || not || 447765159362469301\n",
            "say || say || 8685289367999165211\n",
            "no || Deepak || 12291656114487519444\n",
            "! || ! || 17494803046312582752\n",
            "I || I || 4690420944186131903\n",
            "am || Deepak || 12291656114487519444\n",
            "exhausted || exhausted || 7667564042172459943\n"
          ]
        }
      ]
    },
    {
      "cell_type": "code",
      "source": [
        "ar=nlp.get_pipe(\"attribute_ruler\")"
      ],
      "metadata": {
        "id": "D07IHHuaOr5H"
      },
      "execution_count": 18,
      "outputs": []
    },
    {
      "cell_type": "code",
      "source": [
        "ar.add([[{\"TEXT\":\"Brah\"}],[{\"TEXT\":\"Bro\"}]],{\"LEMMA\":\"Brother\"})"
      ],
      "metadata": {
        "id": "aW50WGyqPQ8l"
      },
      "execution_count": 25,
      "outputs": []
    },
    {
      "cell_type": "code",
      "source": [
        "br=nlp.get_pipe(\"attribute_ruler\")"
      ],
      "metadata": {
        "id": "usbpWWVgPa8J"
      },
      "execution_count": 28,
      "outputs": []
    },
    {
      "cell_type": "code",
      "source": [
        "br.add([[{\"TEXT\":\"no\"}],[{\"TEXT\":\"am\"}]],{\"LEMMA\":\"Deepak\"})"
      ],
      "metadata": {
        "id": "erXxauU-QFMK"
      },
      "execution_count": 29,
      "outputs": []
    },
    {
      "cell_type": "code",
      "source": [
        "blank_pipe=spacy.blank(\"en\")"
      ],
      "metadata": {
        "id": "aK2IMNwPQQsa"
      },
      "execution_count": 32,
      "outputs": []
    },
    {
      "cell_type": "code",
      "source": [
        "blank_pipe.pipe_names"
      ],
      "metadata": {
        "colab": {
          "base_uri": "https://localhost:8080/"
        },
        "id": "ofS1kcFgQYB0",
        "outputId": "2fad5b2f-a2b7-4eab-f695-eabaf0a5bc13"
      },
      "execution_count": 35,
      "outputs": [
        {
          "output_type": "execute_result",
          "data": {
            "text/plain": [
              "['attribute_ruler']"
            ]
          },
          "metadata": {},
          "execution_count": 35
        }
      ]
    },
    {
      "cell_type": "code",
      "source": [
        "blank_pipe.add_pipe(\"attribute_ruler\",source=nlp)"
      ],
      "metadata": {
        "colab": {
          "base_uri": "https://localhost:8080/"
        },
        "id": "bxORwVwGQaO5",
        "outputId": "ce993f67-bc61-4f50-d054-339a9a3fdafa"
      },
      "execution_count": 34,
      "outputs": [
        {
          "output_type": "stream",
          "name": "stderr",
          "text": [
            "/usr/local/lib/python3.10/dist-packages/spacy/language.py:739: UserWarning: [W113] Sourced component 'attribute_ruler' may not work as expected: source vectors are not identical to current pipeline vectors.\n",
            "  warnings.warn(Warnings.W113.format(name=source_name))\n"
          ]
        },
        {
          "output_type": "execute_result",
          "data": {
            "text/plain": [
              "<spacy.pipeline.attributeruler.AttributeRuler at 0x7fd103961940>"
            ]
          },
          "metadata": {},
          "execution_count": 34
        }
      ]
    },
    {
      "cell_type": "code",
      "source": [
        "doc = blank_pipe(\"gimme double cheese extra large healthy pizza\")"
      ],
      "metadata": {
        "id": "-pErhSbUQg4Q"
      },
      "execution_count": 42,
      "outputs": []
    },
    {
      "cell_type": "code",
      "source": [
        "for token in doc:\n",
        "  print(token.text)"
      ],
      "metadata": {
        "colab": {
          "base_uri": "https://localhost:8080/"
        },
        "id": "64P81BzxQ91k",
        "outputId": "f95fa97d-9168-4cc5-bc0c-7a5a17811977"
      },
      "execution_count": 43,
      "outputs": [
        {
          "output_type": "stream",
          "name": "stdout",
          "text": [
            "gim\n",
            "me\n",
            "double\n",
            "cheese\n",
            "extra\n",
            "large\n",
            "healthy\n",
            "pizza\n"
          ]
        }
      ]
    },
    {
      "cell_type": "code",
      "source": [
        "from spacy.symbols import ORTH"
      ],
      "metadata": {
        "id": "IN9YnHIRRDb8"
      },
      "execution_count": 40,
      "outputs": []
    },
    {
      "cell_type": "code",
      "source": [
        "blank_pipe.tokenizer.add_special_case(\"gimme\",[{ORTH:\"gim\"},{ORTH:\"me\"}])"
      ],
      "metadata": {
        "id": "7-IqX4vARIWc"
      },
      "execution_count": 44,
      "outputs": []
    }
  ]
}